{
  "nbformat": 4,
  "nbformat_minor": 0,
  "metadata": {
    "colab": {
      "provenance": []
    },
    "kernelspec": {
      "name": "python3",
      "display_name": "Python 3"
    },
    "language_info": {
      "name": "python"
    }
  },
  "cells": [
    {
      "cell_type": "code",
      "execution_count": null,
      "metadata": {
        "id": "we-ulgGMUlcx"
      },
      "outputs": [],
      "source": []
    },
    {
      "cell_type": "markdown",
      "source": [
        "                          *** Theory Questions: *****"
      ],
      "metadata": {
        "id": "N571oAwkU0Gx"
      }
    },
    {
      "cell_type": "markdown",
      "source": [
        "Ques 1:  What is the difference between a function and a method in Python?\n",
        "- Ans: A function is a standalone block of code designed to perform a specific task and can be called independently, a method is a function that is associated with an object (an instance of a class) and operates on the object's data.\n",
        "\n",
        "Ex:\n",
        "- def add(x, y):\n",
        "    return x + y\n",
        "result = add(5, 3)\n",
        "print(result)\n",
        "\n",
        "- Method\n",
        "class Dog:\n",
        "    def __init__(self, name):\n",
        "        self.name = name\n",
        "    def bark(self):\n",
        "        print(\"Hi! My name is\", self.name)\n",
        "my_dog = Dog(\"Sheru\")\n",
        "my_dog.bark()\n",
        "\n",
        "\n",
        "\n",
        "Ques2: Explain the concept of function arguments and parameters in Python.\n",
        "- Ans: function arguments and parameters are essential concepts for passing information to functions, while often used interchangeably, they have distinct meanings:\n",
        "\n",
        "Parameters: Parameters are the variables listed within the parentheses of a function's definition. They act as placeholders to receive values when the function is called. Think of them as the function's expected input.\n",
        "\n",
        "Arguments: Arguments are the actual values supplied to a function when it is invoked. They are the concrete data passed to the function's parameters.\n",
        "\n",
        "Ex:\n",
        "def greet(name, greeting):  # name and greeting are parameters.\n",
        "    print(f\"{greeting}, {name}!\")\n",
        "\n",
        "greet(\"Aashish\", \"Hello\")  # \"Aashish\" and \"Hello\" are arguments.\n",
        "\n",
        "\n",
        "\n",
        "\n",
        "Ques3: What are the different ways to define and call a function in Python?\n",
        "- Ans: Functions in Python can be defined in several ways, each with its own syntax and use case:\n",
        "\n",
        "1. Standard Function Definition\n",
        "This is the most common way to define a function, using the def keyword, followed by the function name, parentheses for arguments, and a colon, The function body is indented below.\n",
        "\n",
        "Ex:\n",
        "def greet(name):\n",
        "    return \"Hello, \" + name + \"!\"\n",
        "\n",
        "print(greet(\"World\"))\n",
        "\n",
        "2. Lambda Functions\n",
        "Lambda functions are small, anonymous functions defined using the lambda keyword. They can take any number of arguments but can only have one expression.\n",
        "\n",
        "Ex:\n",
        "add = lambda x, y: x + y\n",
        "print(add(5, 3))\n",
        "\n",
        "3. Nested Functions\n",
        "Functions can be defined inside other functions, creating a nested structure.\n",
        "\n",
        "Ex:\n",
        "def outer_function(x):\n",
        "    def inner_function(y):\n",
        "        return x * y\n",
        "    return inner_function\n",
        "multiply_by_5 = outer_function(5)\n",
        "print(multiply_by_5(10))\n",
        "\n",
        "4. Functions with Default Arguments\n",
        "Function arguments can have default values, which are used if the argument is not provided when the function is called.\n",
        "\n",
        "Ex:\n",
        "def power(base, exponent=2):\n",
        "    return base ** exponent\n",
        "\n",
        "print(power(3))\n",
        "print(power(3, 3))\n",
        "\n",
        "5. Functions with *args and **kwargs\n",
        "The *args syntax allows a function to accept any number of positional arguments, while **kwargs allows it to accept any number of keyword arguments.\n",
        "\n",
        "Ex:\n",
        "def print_arguments(*args, **kwargs):\n",
        "    for arg in args:\n",
        "        print(\"Argument:\", arg)\n",
        "    for key, value in kwargs.items():\n",
        "        print(\"Keyword argument:\", key, \"=\", value)\n",
        "\n",
        "print_arguments(1, 2, 3, name=\"Aashish\", age=31)\n",
        "\n",
        "6. Calling Functions\n",
        "Functions are called by writing their name followed by parentheses, which may contain arguments.\n",
        "\n",
        "Ex:\n",
        "def say_hello():\n",
        "    print(\"Hello!\")\n",
        "say_hello()\n",
        "\n",
        "\n",
        "\n",
        "\n",
        "Ques4: What is the purpose of the `return` statement in a Python function?\n",
        "- Ans: The purpose of a return statement in a function is to terminate the function's execution and send a value back to the calling code. This allows the function to provide a result or status to the code that invoked it, enabling modular and reusable programming.\n",
        "\n",
        "Ex:\n",
        "def add(x, y):\n",
        "    return x + y\n",
        "result = add(5, 3)\n",
        "print(result)\n",
        "\n",
        "\n",
        "\n",
        "Ques5: What are iterators in Python and how do they differ from iterables?\n",
        "- Ans: An iterable provides the data to iterate over, while an iterator controls the iteration process, returning one element at a time and keeping track of its progress. every iterator is an iterable, but not every iterable is an iterator. Think of an iterable as a book and an iterator as a bookmark. The book itself doesn't change as you read, but the bookmark keeps track of your progress. You can always start a new book (iterable) with a fresh bookmark (iterator).\n",
        "\n",
        "iterable Ex:\n",
        "\n",
        "my_list = [1, 2, 3, 4, 5]\n",
        "for item in my_list:\n",
        "    print(item)\n",
        "\n",
        "Iterator Ex:\n",
        "class MyIterator:\n",
        "    def __init__(self, data):\n",
        "        self.data = data\n",
        "        self.index = 0\n",
        "\n",
        "    def __iter__(self):\n",
        "        return self\n",
        "\n",
        "    def __next__(self):\n",
        "        if self.index < len(self.data):\n",
        "            result = self.data[self.index]\n",
        "            self.index += 1\n",
        "            return result\n",
        "        else:\n",
        "            raise StopIteration\n",
        "\n",
        "my_list = [1, 2, 3]\n",
        "my_iter = MyIterator(my_list)\n",
        "\n",
        "\n",
        "\n",
        "\n",
        "Ques 6:  Explain the concept of generators in Python and how they are defined.\n",
        "- Ans: A generator function is a special type of function that returns an iterator object. Instead of using return to send back a single value, generator functions use yield to produce a series of results over time. This allows the function to generate values and pause its execution after each yield, maintaining its state between iterations.\n",
        "\n",
        "def fun(max):\n",
        "    cnt = 1\n",
        "    while cnt <= max:\n",
        "        yield cnt\n",
        "        cnt += 1\n",
        "\n",
        "ctr = fun(5)\n",
        "for n in ctr:\n",
        "    print(n)\n",
        "\n",
        "\n",
        "\n",
        "\n",
        "Ques7: What are the advantages of using generators over regular functions?\n",
        "\n",
        "- Ans: The generator processes the file line by line, dramatically reducing memory footprint compared to the regular function version.\n",
        "\n",
        "While regular functions have their place, generators offer a powerful alternative when memory efficiency, infinite sequences, or lazy evaluation are crucial factors. They are an essential tool for writing optimized and resource-aware Python code.\n",
        "\n",
        "Example:\n",
        "\n",
        "Consider reading a massive log file:\n",
        "\n",
        "-Regular Function (Memory Intensive)\n",
        "def read_log_file(filename):\n",
        "    with open(filename) as f:\n",
        "        lines = f.readlines()\n",
        "    return lines\n",
        "\n",
        "-Generator (Memory Efficient)\n",
        "def read_log_file_generator(filename):\n",
        "    with open(filename) as f:\n",
        "        for line in f:\n",
        "            yield line\n",
        "\n",
        "\n",
        "\n",
        "\n",
        "Ques8:What is a lambda function in Python and when is it typically used?\n",
        "- Ans: a lambda function is a small, anonymous function that can take any number of arguments but can only have one expression. It's essentially a shorthand way to define a function that likely only use once.\n",
        "\n",
        "-Lambda function\n",
        "add = lambda x, y: x + y\n",
        "\n",
        "-lambda function\n",
        "result = add(5, 3)\n",
        "print(result)\n",
        "\n",
        "\n",
        "\n",
        "Ques9: Explain the purpose and usage of the `map()` function in Python.\n",
        "- Ans: The map() function in Python serves to apply a given function to each item of an iterable (like a list or tuple) and returns an iterator that yields the results. It provides a concise way to perform element-wise operations without explicit loops.\n",
        "\n",
        "Ex:\n",
        "\n",
        "def square(x):\n",
        "    return x * x\n",
        "numbers = [1, 2, 3, 4, 5]\n",
        "squared_numbers = map(square, numbers)\n",
        "print(list(squared_numbers))  # Output: [1, 4, 9, 16, 25]\n",
        "\n",
        "numbers1 = [1, 2, 3]\n",
        "numbers2 = [4, 5, 6]\n",
        "added_numbers = map(lambda x, y: x + y, numbers1, numbers2)\n",
        "print(list(added_numbers)) # Output: [5, 7, 9]\n",
        "\n",
        "\n",
        "\n",
        "Ques10: What is the difference between `map()`, `reduce()`, and `filter()` functions in Python?\n",
        "-Ans:\n",
        "map():\n",
        "Applies a given function to each item in an iterable (e.g., list, tuple) and returns an iterator that yields the results. It transforms each element individually.\n",
        "filter():\n",
        "Creates a new iterator containing only the elements from the original iterable for which a given function returns True. It selects elements based on a condition.\n",
        "reduce():\n",
        "Applies a function cumulatively to the items of an iterable, from left to right, to reduce the iterable to a single value. It performs an aggregate computation. Note that in Python 3, reduce() is no longer a built-in function and needs to be imported from the functools module.\n",
        "\n",
        "from functools import reduce\n",
        "numbers = [1, 2, 3, 4, 5]\n",
        "-map(): double each number\n",
        "squared_numbers = list(map(lambda x: x * 2, numbers))\n",
        "-filter(): keep only even numbers\n",
        "even_numbers = list(filter(lambda x: x % 2 == 0, numbers))\n",
        "-reduce(): calculate the product of all numbers\n",
        "product = reduce(lambda x, y: x * y, numbers)\n"
      ],
      "metadata": {
        "id": "QJbKz-YVU4R8"
      }
    },
    {
      "cell_type": "markdown",
      "source": [],
      "metadata": {
        "id": "cxLmXNwwV8Gd"
      }
    },
    {
      "cell_type": "markdown",
      "source": [],
      "metadata": {
        "id": "7lCidvQhPYi4"
      }
    },
    {
      "cell_type": "markdown",
      "source": [
        "                            **** Practical Questions****"
      ],
      "metadata": {
        "id": "R3-3vn7Tig4O"
      }
    },
    {
      "cell_type": "code",
      "source": [
        "#Ques1: Write a Python function that takes a list of numbers as input and returns the sum of all even numbers in the list.\n",
        "def sum_even_numbers(numbers):\n",
        "    sum = 0\n",
        "    for num in numbers:\n",
        "        if num % 2 == 0:\n",
        "            sum += num\n",
        "    return sum"
      ],
      "metadata": {
        "id": "T53PjLibitBP"
      },
      "execution_count": null,
      "outputs": []
    },
    {
      "cell_type": "code",
      "source": [
        "sum_even_numbers([12,14,17,21,30])"
      ],
      "metadata": {
        "colab": {
          "base_uri": "https://localhost:8080/"
        },
        "id": "mOq-p0WRjM9v",
        "outputId": "995b62bc-fdce-4078-c773-47efff81cbc9"
      },
      "execution_count": null,
      "outputs": [
        {
          "output_type": "execute_result",
          "data": {
            "text/plain": [
              "56"
            ]
          },
          "metadata": {},
          "execution_count": 5
        }
      ]
    },
    {
      "cell_type": "code",
      "source": [
        "#ques2: Create a Python function that accepts a string and returns the reverse of that string.\n",
        "def reverse_string(string):\n",
        "    return string[::-1]"
      ],
      "metadata": {
        "id": "NyFBjJ2tigRf"
      },
      "execution_count": null,
      "outputs": []
    },
    {
      "cell_type": "code",
      "source": [
        "reverse_string(\"Aashish\")"
      ],
      "metadata": {
        "colab": {
          "base_uri": "https://localhost:8080/",
          "height": 35
        },
        "id": "bbBNiMwL9Loz",
        "outputId": "03b36867-4dcd-4eef-ce5c-ea341a2cdc14"
      },
      "execution_count": null,
      "outputs": [
        {
          "output_type": "execute_result",
          "data": {
            "text/plain": [
              "'hsihsaA'"
            ],
            "application/vnd.google.colaboratory.intrinsic+json": {
              "type": "string"
            }
          },
          "metadata": {},
          "execution_count": 11
        }
      ]
    },
    {
      "cell_type": "code",
      "source": [
        "#Ques3: Implement a Python function that takes a list of integers and returns a new list containing the squares of each number.\n",
        "def square_numbers(numbers):\n",
        "    squares = [num ** 2 for num in numbers]\n",
        "    return squares"
      ],
      "metadata": {
        "id": "eYtdrjdoWZTW"
      },
      "execution_count": null,
      "outputs": []
    },
    {
      "cell_type": "code",
      "source": [
        "square_numbers([10,15,20])"
      ],
      "metadata": {
        "colab": {
          "base_uri": "https://localhost:8080/"
        },
        "id": "Xl3evgG8-NvM",
        "outputId": "59e4f6a2-067c-4030-9d21-e5f623326fdd"
      },
      "execution_count": null,
      "outputs": [
        {
          "output_type": "execute_result",
          "data": {
            "text/plain": [
              "[100, 225, 400]"
            ]
          },
          "metadata": {},
          "execution_count": 3
        }
      ]
    },
    {
      "cell_type": "code",
      "source": [
        "#Ques4: Write a Python function that checks if a given number is prime or not from 1 to 200\n",
        "import math\n",
        "def is_prime(number):\n",
        "  if number <= 1:\n",
        "        return False\n",
        "  if number > 200:\n",
        "      return False # Restrict to numbers up to 200\n",
        "  for i in range(2, int(math.sqrt(number)) + 1):\n",
        "       if number % i == 0:\n",
        "           return False  # Found a divisor, not prime\n",
        "  return True  # No divisors found, it's prime\n",
        "\n",
        "for num in range(1, 201):\n",
        "    if is_prime(num):\n",
        "        print(f\"{num} is a prime number.\")\n",
        "    else:\n",
        "        print(f\"{num} is not a prime number.\")"
      ],
      "metadata": {
        "colab": {
          "base_uri": "https://localhost:8080/"
        },
        "id": "tFHjEisQlFlx",
        "outputId": "9d011a2c-47c1-409d-c8b2-ac21f930d83a"
      },
      "execution_count": null,
      "outputs": [
        {
          "output_type": "stream",
          "name": "stdout",
          "text": [
            "1 is not a prime number.\n",
            "2 is a prime number.\n",
            "3 is a prime number.\n",
            "4 is not a prime number.\n",
            "5 is a prime number.\n",
            "6 is not a prime number.\n",
            "7 is a prime number.\n",
            "8 is not a prime number.\n",
            "9 is not a prime number.\n",
            "10 is not a prime number.\n",
            "11 is a prime number.\n",
            "12 is not a prime number.\n",
            "13 is a prime number.\n",
            "14 is not a prime number.\n",
            "15 is not a prime number.\n",
            "16 is not a prime number.\n",
            "17 is a prime number.\n",
            "18 is not a prime number.\n",
            "19 is a prime number.\n",
            "20 is not a prime number.\n",
            "21 is not a prime number.\n",
            "22 is not a prime number.\n",
            "23 is a prime number.\n",
            "24 is not a prime number.\n",
            "25 is not a prime number.\n",
            "26 is not a prime number.\n",
            "27 is not a prime number.\n",
            "28 is not a prime number.\n",
            "29 is a prime number.\n",
            "30 is not a prime number.\n",
            "31 is a prime number.\n",
            "32 is not a prime number.\n",
            "33 is not a prime number.\n",
            "34 is not a prime number.\n",
            "35 is not a prime number.\n",
            "36 is not a prime number.\n",
            "37 is a prime number.\n",
            "38 is not a prime number.\n",
            "39 is not a prime number.\n",
            "40 is not a prime number.\n",
            "41 is a prime number.\n",
            "42 is not a prime number.\n",
            "43 is a prime number.\n",
            "44 is not a prime number.\n",
            "45 is not a prime number.\n",
            "46 is not a prime number.\n",
            "47 is a prime number.\n",
            "48 is not a prime number.\n",
            "49 is not a prime number.\n",
            "50 is not a prime number.\n",
            "51 is not a prime number.\n",
            "52 is not a prime number.\n",
            "53 is a prime number.\n",
            "54 is not a prime number.\n",
            "55 is not a prime number.\n",
            "56 is not a prime number.\n",
            "57 is not a prime number.\n",
            "58 is not a prime number.\n",
            "59 is a prime number.\n",
            "60 is not a prime number.\n",
            "61 is a prime number.\n",
            "62 is not a prime number.\n",
            "63 is not a prime number.\n",
            "64 is not a prime number.\n",
            "65 is not a prime number.\n",
            "66 is not a prime number.\n",
            "67 is a prime number.\n",
            "68 is not a prime number.\n",
            "69 is not a prime number.\n",
            "70 is not a prime number.\n",
            "71 is a prime number.\n",
            "72 is not a prime number.\n",
            "73 is a prime number.\n",
            "74 is not a prime number.\n",
            "75 is not a prime number.\n",
            "76 is not a prime number.\n",
            "77 is not a prime number.\n",
            "78 is not a prime number.\n",
            "79 is a prime number.\n",
            "80 is not a prime number.\n",
            "81 is not a prime number.\n",
            "82 is not a prime number.\n",
            "83 is a prime number.\n",
            "84 is not a prime number.\n",
            "85 is not a prime number.\n",
            "86 is not a prime number.\n",
            "87 is not a prime number.\n",
            "88 is not a prime number.\n",
            "89 is a prime number.\n",
            "90 is not a prime number.\n",
            "91 is not a prime number.\n",
            "92 is not a prime number.\n",
            "93 is not a prime number.\n",
            "94 is not a prime number.\n",
            "95 is not a prime number.\n",
            "96 is not a prime number.\n",
            "97 is a prime number.\n",
            "98 is not a prime number.\n",
            "99 is not a prime number.\n",
            "100 is not a prime number.\n",
            "101 is a prime number.\n",
            "102 is not a prime number.\n",
            "103 is a prime number.\n",
            "104 is not a prime number.\n",
            "105 is not a prime number.\n",
            "106 is not a prime number.\n",
            "107 is a prime number.\n",
            "108 is not a prime number.\n",
            "109 is a prime number.\n",
            "110 is not a prime number.\n",
            "111 is not a prime number.\n",
            "112 is not a prime number.\n",
            "113 is a prime number.\n",
            "114 is not a prime number.\n",
            "115 is not a prime number.\n",
            "116 is not a prime number.\n",
            "117 is not a prime number.\n",
            "118 is not a prime number.\n",
            "119 is not a prime number.\n",
            "120 is not a prime number.\n",
            "121 is not a prime number.\n",
            "122 is not a prime number.\n",
            "123 is not a prime number.\n",
            "124 is not a prime number.\n",
            "125 is not a prime number.\n",
            "126 is not a prime number.\n",
            "127 is a prime number.\n",
            "128 is not a prime number.\n",
            "129 is not a prime number.\n",
            "130 is not a prime number.\n",
            "131 is a prime number.\n",
            "132 is not a prime number.\n",
            "133 is not a prime number.\n",
            "134 is not a prime number.\n",
            "135 is not a prime number.\n",
            "136 is not a prime number.\n",
            "137 is a prime number.\n",
            "138 is not a prime number.\n",
            "139 is a prime number.\n",
            "140 is not a prime number.\n",
            "141 is not a prime number.\n",
            "142 is not a prime number.\n",
            "143 is not a prime number.\n",
            "144 is not a prime number.\n",
            "145 is not a prime number.\n",
            "146 is not a prime number.\n",
            "147 is not a prime number.\n",
            "148 is not a prime number.\n",
            "149 is a prime number.\n",
            "150 is not a prime number.\n",
            "151 is a prime number.\n",
            "152 is not a prime number.\n",
            "153 is not a prime number.\n",
            "154 is not a prime number.\n",
            "155 is not a prime number.\n",
            "156 is not a prime number.\n",
            "157 is a prime number.\n",
            "158 is not a prime number.\n",
            "159 is not a prime number.\n",
            "160 is not a prime number.\n",
            "161 is not a prime number.\n",
            "162 is not a prime number.\n",
            "163 is a prime number.\n",
            "164 is not a prime number.\n",
            "165 is not a prime number.\n",
            "166 is not a prime number.\n",
            "167 is a prime number.\n",
            "168 is not a prime number.\n",
            "169 is not a prime number.\n",
            "170 is not a prime number.\n",
            "171 is not a prime number.\n",
            "172 is not a prime number.\n",
            "173 is a prime number.\n",
            "174 is not a prime number.\n",
            "175 is not a prime number.\n",
            "176 is not a prime number.\n",
            "177 is not a prime number.\n",
            "178 is not a prime number.\n",
            "179 is a prime number.\n",
            "180 is not a prime number.\n",
            "181 is a prime number.\n",
            "182 is not a prime number.\n",
            "183 is not a prime number.\n",
            "184 is not a prime number.\n",
            "185 is not a prime number.\n",
            "186 is not a prime number.\n",
            "187 is not a prime number.\n",
            "188 is not a prime number.\n",
            "189 is not a prime number.\n",
            "190 is not a prime number.\n",
            "191 is a prime number.\n",
            "192 is not a prime number.\n",
            "193 is a prime number.\n",
            "194 is not a prime number.\n",
            "195 is not a prime number.\n",
            "196 is not a prime number.\n",
            "197 is a prime number.\n",
            "198 is not a prime number.\n",
            "199 is a prime number.\n",
            "200 is not a prime number.\n"
          ]
        }
      ]
    },
    {
      "cell_type": "code",
      "source": [
        "is_prime(150)"
      ],
      "metadata": {
        "colab": {
          "base_uri": "https://localhost:8080/"
        },
        "id": "BUDCEY1pCUef",
        "outputId": "c5da23e1-8652-4a0f-d9ec-b2915b7648c5"
      },
      "execution_count": null,
      "outputs": [
        {
          "output_type": "execute_result",
          "data": {
            "text/plain": [
              "False"
            ]
          },
          "metadata": {},
          "execution_count": 15
        }
      ]
    },
    {
      "cell_type": "code",
      "source": [
        "#Ques5: Create an iterator class in Python that generates the Fibonacci sequence up to a specified number of terms\n",
        "class FibonacciIterator:\n",
        "    def __init__(self, n):\n",
        "        self.n = n\n",
        "        self.a, self.b = 0, 1\n",
        "        self.count = 0"
      ],
      "metadata": {
        "id": "Q2ouL0Y2l2kZ"
      },
      "execution_count": null,
      "outputs": []
    },
    {
      "cell_type": "code",
      "source": [
        "#Ques6: Write a generator function in Python that yields the powers of 2 up to a given exponent.\n",
        "def power_of_2(exponent):\n",
        "    for i in range(exponent + 1):\n",
        "        yield 2 ** i"
      ],
      "metadata": {
        "id": "QnkshYx8pl6f"
      },
      "execution_count": null,
      "outputs": []
    },
    {
      "cell_type": "code",
      "source": [
        "#Ques7: Implement a generator function that reads a file line by line and yields each line as a string.\n",
        "def read_file_line_by_line(filename):\n",
        "    with open(filename, 'r') as file:\n",
        "        for line in file:\n",
        "            yield line"
      ],
      "metadata": {
        "id": "cEWPF1vDpvld"
      },
      "execution_count": null,
      "outputs": []
    },
    {
      "cell_type": "code",
      "source": [
        "#Ques8: Use a lambda function in Python to sort a list of tuples based on the second element of each tuple.\n",
        "data = [('apple', 5), ('banana', 2), ('cherry', 8), ('date', 1)]\n",
        "sorted_data = sorted(data, key=lambda x: x[1])\n",
        "sorted_data"
      ],
      "metadata": {
        "colab": {
          "base_uri": "https://localhost:8080/"
        },
        "id": "j9SXYXPcpzJZ",
        "outputId": "064949ac-c138-4b91-f004-ae2715c0b83e"
      },
      "execution_count": null,
      "outputs": [
        {
          "output_type": "execute_result",
          "data": {
            "text/plain": [
              "[('date', 1), ('banana', 2), ('apple', 5), ('cherry', 8)]"
            ]
          },
          "metadata": {},
          "execution_count": 30
        }
      ]
    },
    {
      "cell_type": "code",
      "source": [
        "#Ques9: Write a Python program that uses `map()` to convert a list of temperatures from Celsius to Fahrenheit\n",
        "def celsius_to_fahrenheit(celsius):\n",
        "  return (celsius * 9/5) + 32\n",
        "celsius_temperatures = [10, 20, 30, 40]\n",
        "fahrenheit_temperatures = list(map(celsius_to_fahrenheit, celsius_temperatures))\n",
        "fahrenheit_temperatures"
      ],
      "metadata": {
        "colab": {
          "base_uri": "https://localhost:8080/"
        },
        "id": "JcVXdiWjqKhC",
        "outputId": "4cc09e4b-c793-4c79-dd81-eda4af2d2d21"
      },
      "execution_count": null,
      "outputs": [
        {
          "output_type": "execute_result",
          "data": {
            "text/plain": [
              "[50.0, 68.0, 86.0, 104.0]"
            ]
          },
          "metadata": {},
          "execution_count": 32
        }
      ]
    },
    {
      "cell_type": "code",
      "source": [
        "#Ques10: Create a Python program that uses `filter()` to remove all the vowels from a given string.\n",
        "def remove_vowels(string):\n",
        "    vowels = 'aeiouAEIOU'\n",
        "    filtered_string = ''.join(filter(lambda x: x not in vowels, string))\n",
        "    return filtered_string"
      ],
      "metadata": {
        "id": "rCm0XsXCqdFQ"
      },
      "execution_count": null,
      "outputs": []
    },
    {
      "cell_type": "code",
      "source": [
        "remove_vowels(\"Aashish\")"
      ],
      "metadata": {
        "colab": {
          "base_uri": "https://localhost:8080/",
          "height": 35
        },
        "id": "k-ASX0TxF6Gf",
        "outputId": "4c799bb0-b037-4243-d9f0-afa7ca3e2cc3"
      },
      "execution_count": null,
      "outputs": [
        {
          "output_type": "execute_result",
          "data": {
            "text/plain": [
              "'shsh'"
            ],
            "application/vnd.google.colaboratory.intrinsic+json": {
              "type": "string"
            }
          },
          "metadata": {},
          "execution_count": 35
        }
      ]
    },
    {
      "cell_type": "code",
      "source": [
        "#Ques: Imagine an accounting routine used in a book shop. It works on a list with sublists, which look like this\n",
        "#Ques:11- Write a Python program, which returns a list with 2-tuples. Each tuple consists of the order number and the product of the price per item and the quantity. The product should be increased by 10,- € if the value of the order is smaller than 100,00 €. Write a Python program using lambda and map.\n",
        "\n",
        "from functools import reduce\n",
        "\n",
        "def calculate_order_summary(orders):\n",
        "    invoice_totals = list(map(\n",
        "        lambda x: (x[0], x[2] * x[3]) if x[2] * x[3] >= int(100) else (x[0], x[2] * x[3] + int(10)),\n",
        "        orders\n",
        "    ))\n",
        "    return invoice_totals"
      ],
      "metadata": {
        "id": "mlP5XouRGTZX"
      },
      "execution_count": null,
      "outputs": []
    },
    {
      "cell_type": "code",
      "source": [
        "orders=[\n",
        "    [34587,'Learning Python','Mark Lutz',4,40.95],\n",
        " [98762,'Programming Python','Mark Lutz',5,56.80],\n",
        "    [77226,'Head First Python','Paul Barry',3,32.95],\n",
        "     [88112,'Einfuhrung in Python3','Bernd Klein',3,24.99]]\n",
        "order_summary = calculate_order_summary(orders)\n",
        "print(order_summary)\n",
        "#print(orders)"
      ],
      "metadata": {
        "colab": {
          "base_uri": "https://localhost:8080/"
        },
        "id": "uriTPUmnJX2_",
        "outputId": "51f49c96-1be2-4798-827f-1caf39808ef1"
      },
      "execution_count": null,
      "outputs": [
        {
          "output_type": "stream",
          "name": "stdout",
          "text": [
            "[[34587, 'Learning Python', 'Mark Lutz', 4, 40.95], [98762, 'Programming Python', 'Mark Lutz', 5, 56.8], [77226, 'Head First Python', 'Paul Barry', 3, 32.95], [88112, 'Einfuhrung in Python3', 'Bernd Klein', 3, 24.99]]\n"
          ]
        }
      ]
    },
    {
      "cell_type": "markdown",
      "source": [],
      "metadata": {
        "id": "NNsSvidjqWID"
      }
    }
  ]
}